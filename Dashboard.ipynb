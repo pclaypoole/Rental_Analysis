{
 "cells": [
  {
   "cell_type": "code",
   "execution_count": 2,
   "metadata": {},
   "outputs": [
    {
     "ename": "ModuleNotFoundError",
     "evalue": "No module named 'plotly_express'",
     "output_type": "error",
     "traceback": [
      "\u001b[0;31m---------------------------------------------------------------------------\u001b[0m",
      "\u001b[0;31mModuleNotFoundError\u001b[0m                       Traceback (most recent call last)",
      "\u001b[0;32m<ipython-input-2-94e5c7719d3a>\u001b[0m in \u001b[0;36m<module>\u001b[0;34m\u001b[0m\n\u001b[1;32m      5\u001b[0m \u001b[0;32mimport\u001b[0m \u001b[0mhvplot\u001b[0m\u001b[0;34m.\u001b[0m\u001b[0mpandas\u001b[0m\u001b[0;34m\u001b[0m\u001b[0;34m\u001b[0m\u001b[0m\n\u001b[1;32m      6\u001b[0m \u001b[0;32mimport\u001b[0m \u001b[0mpanel\u001b[0m \u001b[0;32mas\u001b[0m \u001b[0mpn\u001b[0m\u001b[0;34m\u001b[0m\u001b[0;34m\u001b[0m\u001b[0m\n\u001b[0;32m----> 7\u001b[0;31m \u001b[0;32mimport\u001b[0m \u001b[0mplotly_express\u001b[0m \u001b[0;32mas\u001b[0m \u001b[0mpx\u001b[0m\u001b[0;34m\u001b[0m\u001b[0;34m\u001b[0m\u001b[0m\n\u001b[0m\u001b[1;32m      8\u001b[0m \u001b[0;32mfrom\u001b[0m \u001b[0mpathlib\u001b[0m \u001b[0;32mimport\u001b[0m \u001b[0mPath\u001b[0m\u001b[0;34m\u001b[0m\u001b[0;34m\u001b[0m\u001b[0m\n\u001b[1;32m      9\u001b[0m \u001b[0;31m# Initialize the Panel Extensions (for Plotly)\u001b[0m\u001b[0;34m\u001b[0m\u001b[0;34m\u001b[0m\u001b[0;34m\u001b[0m\u001b[0m\n",
      "\u001b[0;31mModuleNotFoundError\u001b[0m: No module named 'plotly_express'"
     ]
    }
   ],
   "source": [
    "# initial imports\n",
    "import os\n",
    "import pandas as pd\n",
    "import matplotlib.pyplot as plt\n",
    "import hvplot.pandas\n",
    "import panel as pn\n",
    "import plotly_express as px\n",
    "from pathlib import Path\n",
    "# Initialize the Panel Extensions (for Plotly)\n",
    "pn.extension('plotly')"
   ]
  },
  {
   "cell_type": "code",
   "execution_count": null,
   "metadata": {},
   "outputs": [],
   "source": [
    "# Read the Mapbox API key\n",
    "mapbox_token = os.getenv(\"mapbox\")"
   ]
  },
  {
   "cell_type": "code",
   "execution_count": null,
   "metadata": {},
   "outputs": [],
   "source": [
    "# Import the CSVs to Pandas DataFrames\n",
    "file_path = Path(\"Data/sfo_neighborhoods_census_data.csv\")\n",
    "sfo_data = pd.read_csv(file_path, index_col=\"year\")\n",
    "\n",
    "file_path = Path(\"Data/neighborhoods_coordinates.csv\")\n",
    "df_neighborhood_locations = pd.read_csv(file_path)"
   ]
  },
  {
   "cell_type": "code",
   "execution_count": 2,
   "metadata": {},
   "outputs": [
    {
     "ename": "IndentationError",
     "evalue": "expected an indented block (<ipython-input-2-2f5c05f19ad1>, line 3)",
     "output_type": "error",
     "traceback": [
      "\u001b[0;36m  File \u001b[0;32m\"<ipython-input-2-2f5c05f19ad1>\"\u001b[0;36m, line \u001b[0;32m3\u001b[0m\n\u001b[0;31m    \"\"\"Housing Units Per Year.\"\"\"\u001b[0m\n\u001b[0m                                ^\u001b[0m\n\u001b[0;31mIndentationError\u001b[0m\u001b[0;31m:\u001b[0m expected an indented block\n"
     ]
    }
   ],
   "source": [
    "# Define Panel Visualization Functions\n",
    "def housing_units_per_year():\n",
    "\"\"\"Housing Units Per Year.\"\"\"\n",
    "# YOUR CODE HERE!\n",
    "\n",
    "def average_gross_rent():\n",
    "\"\"\"Average Gross Rent in San Francisco Per Year.\"\"\"\n",
    "# YOUR CODE HERE!\n",
    "\n",
    "def average_sales_price():\n",
    "\"\"\"Average Sales Price Per Year.\"\"\"\n",
    "# YOUR CODE HERE!\n",
    "\n",
    "def average_price_by_neighborhood():\n",
    "\"\"\"Average Prices by Neighborhood.\"\"\"\n",
    "# YOUR CODE HERE!\n",
    "\n",
    "def top_most_expensive_neighborhoods():\n",
    "\"\"\"Top 10 Most Expensive Neighborhoods.\"\"\"\n",
    "# YOUR CODE HERE!\n",
    "\n",
    "def parallel_coordinates():\n",
    "\"\"\"Parallel Coordinates Plot.\"\"\"\n",
    "# YOUR CODE HERE!\n",
    "\n",
    "def parallel_categories():\n",
    "\"\"\"Parallel Categories Plot.\"\"\"\n",
    "# YOUR CODE HERE!\n",
    "\n",
    "def neighborhood_map():\n",
    "\"\"\"Neighborhood Map\"\"\"\n",
    "# YOUR CODE HERE!"
   ]
  },
  {
   "cell_type": "code",
   "execution_count": 3,
   "metadata": {},
   "outputs": [],
   "source": [
    "#Panel Dashboard\n",
    "#Combine all of the plots into a single dashboard view using Panel.\n",
    "# YOUR CODE HERE!"
   ]
  },
  {
   "cell_type": "code",
   "execution_count": null,
   "metadata": {},
   "outputs": [],
   "source": [
    "#Serve the Panel Dashboard\n",
    "Column(width=900)\n",
    "[0] Row\n",
    "[0] Markdown(str, width=800)\n",
    "[1] Tabs\n",
    "[0] Column\n",
    "[0] Markdown(str)\n",
    "[1] Plotly(ExpressFigure)\n",
    "[1] Row\n",
    "[0] Matplotlib(Figure, tight=True)\n",
    "[1] Matplotlib(Figure, tight=True)\n",
    "[2] Matplotlib(Figure, tight=True)\n",
    "[2] Column\n",
    "[0] Row\n",
    "[0] HoloViews(DynamicMap)\n",
    "[1] Column\n",
    "[0] Select(name='neighborhood', options=['Alamo Square', ...], value='Alamo Square')\n",
    "[1] HoloViews(Bars)\n",
    "[3] Column(width=960)\n",
    "[0] Plotly(ExpressFigure)\n",
    "[1] Plotly(ExpressFigure)"
   ]
  }
 ],
 "metadata": {
  "kernelspec": {
   "display_name": "Python [conda env:pyvizenv]",
   "language": "python",
   "name": "conda-env-pyvizenv-py"
  },
  "language_info": {
   "codemirror_mode": {
    "name": "ipython",
    "version": 3
   },
   "file_extension": ".py",
   "mimetype": "text/x-python",
   "name": "python",
   "nbconvert_exporter": "python",
   "pygments_lexer": "ipython3",
   "version": "3.7.7"
  }
 },
 "nbformat": 4,
 "nbformat_minor": 4
}
